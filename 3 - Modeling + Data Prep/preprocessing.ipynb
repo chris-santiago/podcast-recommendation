{
 "cells": [
  {
   "cell_type": "code",
   "execution_count": null,
   "metadata": {},
   "outputs": [],
   "source": [
    "import sqlite3\n",
    "import numpy as np\n",
    "import pandas as pd\n",
    "import re\n",
    "import time\n",
    "from collections import Counter\n",
    "\n",
    "# Custom module\n",
    "from spell_check import word_level"
   ]
  },
  {
   "cell_type": "markdown",
   "metadata": {},
   "source": [
    "### Import data"
   ]
  },
  {
   "cell_type": "code",
   "execution_count": null,
   "metadata": {},
   "outputs": [],
   "source": [
    "# Create connection\n",
    "cnx = sqlite3.connect('../data/GuidePod_clean.sqlite')\n",
    "\n",
    "# import\n",
    "df = pd.read_sql_query(\"SELECT * FROM podcast_model_data;\", cnx)\n",
    "print(f\"Original podcast dataset shape = {df.shape}\")"
   ]
  },
  {
   "cell_type": "code",
   "execution_count": null,
   "metadata": {},
   "outputs": [],
   "source": [
    "print(df.columns[df.isnull().any()])"
   ]
  },
  {
   "cell_type": "code",
   "execution_count": null,
   "metadata": {},
   "outputs": [],
   "source": [
    "print(df[\"releaseDate\"].isnull().sum())\n",
    "print(df[\"Primary_Genre\"].isnull().sum())\n",
    "print(df[\"Artist\"].isnull().sum())"
   ]
  },
  {
   "cell_type": "code",
   "execution_count": null,
   "metadata": {},
   "outputs": [],
   "source": [
    "# Drop NAN\n",
    "df = df[df['Primary_Genre'].notna()]\n",
    "df = df[df['Artist'].notna()]\n",
    "df = df.drop('releaseDate', 1)\n",
    "df = df.drop('index', 1)"
   ]
  },
  {
   "cell_type": "code",
   "execution_count": null,
   "metadata": {},
   "outputs": [],
   "source": [
    "print(f\"Dataset shape = {df.shape}\")"
   ]
  },
  {
   "cell_type": "markdown",
   "metadata": {},
   "source": [
    "### Create new features"
   ]
  },
  {
   "cell_type": "code",
   "execution_count": null,
   "metadata": {},
   "outputs": [],
   "source": [
    "# Find the average duration per episode\n",
    "df[\"total_duration\"] = df[\"total_duration\"]/df[\"episode_count\"]\n",
    "df.rename(columns={\"total_duration\": \"avg_duration\"}, inplace=True)"
   ]
  },
  {
   "cell_type": "code",
   "execution_count": null,
   "metadata": {},
   "outputs": [],
   "source": [
    "# Add prefix to genre dummy columns\n",
    "df.rename(columns={col: \"genre_\"+col for col in df.iloc[:,9:].columns}, inplace=True)"
   ]
  },
  {
   "cell_type": "code",
   "execution_count": null,
   "metadata": {},
   "outputs": [],
   "source": [
    "c = Counter()\n",
    "\n",
    "for i in df[\"Artist\"]:\n",
    "    c[i] += 1"
   ]
  },
  {
   "cell_type": "code",
   "execution_count": null,
   "metadata": {},
   "outputs": [],
   "source": [
    "artist_dummy = list({\"artist_\"+el for el in c.elements() if c[el] >= 3 and el != \"Unknown\"})"
   ]
  },
  {
   "cell_type": "code",
   "execution_count": null,
   "metadata": {},
   "outputs": [],
   "source": [
    "len(artist_dummy)"
   ]
  },
  {
   "cell_type": "code",
   "execution_count": null,
   "metadata": {},
   "outputs": [],
   "source": [
    "dummies = pd.get_dummies(df.Artist, prefix='artist')"
   ]
  },
  {
   "cell_type": "code",
   "execution_count": null,
   "metadata": {},
   "outputs": [],
   "source": [
    "df = pd.concat([df, dummies[artist_dummy]], axis=1)"
   ]
  },
  {
   "cell_type": "code",
   "execution_count": null,
   "metadata": {},
   "outputs": [],
   "source": [
    "print(f\"Dataset shape = {df.shape}\")"
   ]
  },
  {
   "cell_type": "code",
   "execution_count": null,
   "metadata": {},
   "outputs": [],
   "source": [
    "move text column to the end\n",
    "col = df.pop(\"combined\")\n",
    "df.insert(df.shape[1], col.name, col)"
   ]
  },
  {
   "cell_type": "code",
   "execution_count": null,
   "metadata": {},
   "outputs": [],
   "source": [
    "df.columns = df.columns.str.lower()"
   ]
  },
  {
   "cell_type": "code",
   "execution_count": null,
   "metadata": {},
   "outputs": [],
   "source": [
    "print(f\"Podcasts with only 1 review: {len(df.loc[df['num_reviews']==1])}\")"
   ]
  },
  {
   "cell_type": "markdown",
   "metadata": {},
   "source": [
    "### Clean text"
   ]
  },
  {
   "cell_type": "code",
   "execution_count": null,
   "metadata": {},
   "outputs": [],
   "source": [
    "def onlyWords(s):\n",
    "    \n",
    "    return re.sub(r'[^A-Za-z]+', ' ', s).strip().lower()\n",
    "\n",
    "df.loc[:,\"combined\"] = df.loc[:,\"combined\"].apply(lambda x: onlyWords(x))"
   ]
  },
  {
   "cell_type": "code",
   "execution_count": null,
   "metadata": {},
   "outputs": [],
   "source": [
    "import requests\n",
    "r = requests.get(\"https://raw.githubusercontent.com/stopwords-iso/stopwords-en/master/stopwords-en.txt\")\n",
    "stopwords = r.text.split('\\n')"
   ]
  },
  {
   "cell_type": "code",
   "execution_count": null,
   "metadata": {},
   "outputs": [],
   "source": [
    "start = time.time()\n",
    "\n",
    "body_text = \"_\".join(df[\"combined\"])\n",
    "pattern = re.compile(r'\\b(' + r'|'.join(stopwords) + r')\\b\\s*')\n",
    "text = pattern.sub('', body_text)\n",
    "print(len(set(text.split())))\n",
    "text = text.split(\"_\")\n",
    "df.loc[:,\"combined\"] = text\n",
    "\n",
    "end = time.time()\n",
    "print(end - start)"
   ]
  },
  {
   "cell_type": "code",
   "execution_count": null,
   "metadata": {},
   "outputs": [],
   "source": [
    "start = time.time()\n",
    "\n",
    "df.loc[:,\"combined\"] = df.loc[:,\"combined\"].apply(lambda x: word_level(x))\n",
    "\n",
    "end = time.time()\n",
    "print(end - start)"
   ]
  },
  {
   "cell_type": "code",
   "execution_count": null,
   "metadata": {},
   "outputs": [],
   "source": [
    "start = time.time()\n",
    "\n",
    "body_text = \"_\".join(df[\"combined\"])\n",
    "pattern = re.compile(r'\\b(' + r'|'.join(stopwords) + r')\\b\\s*')\n",
    "text = pattern.sub('', body_text)\n",
    "print(len(set(text.split())))\n",
    "text = text.split(\"_\")\n",
    "df.loc[:,\"combined\"] = text\n",
    "\n",
    "end = time.time()\n",
    "print(end - start)"
   ]
  },
  {
   "cell_type": "markdown",
   "metadata": {},
   "source": [
    "### Bin the continuous variables"
   ]
  },
  {
   "cell_type": "code",
   "execution_count": null,
   "metadata": {},
   "outputs": [],
   "source": [
    "cut_bins = np.arange(1.0, 5.5, 0.5)\n",
    "\n",
    "df['avg_review_score'] = pd.cut(df['avg_review_score'], bins=cut_bins, right=True)\n",
    "\n",
    "print(df['avg_review_score'].value_counts())\n",
    "\n",
    "dummies = pd.get_dummies(df['avg_review_score'], prefix=\"reviewscore\")\n",
    "df = pd.concat([df, dummies], axis=1)\n",
    "df.drop(['avg_review_score'], inplace=True, axis=1)"
   ]
  },
  {
   "cell_type": "code",
   "execution_count": null,
   "metadata": {},
   "outputs": [],
   "source": [
    "cut_bins = np.arange(0, 140*60, 20*60)\n",
    "cut_bins = np.append(cut_bins, np.inf)\n",
    "df['avg_duration_bin'] = pd.cut(df['avg_duration'], bins=cut_bins)#.value_counts()\n",
    "\n",
    "print(df['avg_duration_bin'].value_counts())\n",
    "\n",
    "dummies = pd.get_dummies(df['avg_duration_bin'], prefix=\"duration\")\n",
    "df = pd.concat([df, dummies], axis=1)\n",
    "df.drop(['avg_duration_bin'], inplace=True, axis=1)"
   ]
  },
  {
   "cell_type": "code",
   "execution_count": null,
   "metadata": {},
   "outputs": [],
   "source": [
    "cut_bins = np.arange(0, 500, 100)\n",
    "cut_bins = np.append(cut_bins, np.inf)\n",
    "df['episode_count_bin'] = pd.cut(df['episode_count'], bins=cut_bins)#.value_counts()\n",
    "\n",
    "print(df['episode_count_bin'].value_counts())\n",
    "\n",
    "dummies = pd.get_dummies(df['episode_count_bin'], prefix=\"episodecount\")\n",
    "df = pd.concat([df, dummies], axis=1)\n",
    "df.drop(['episode_count_bin'], inplace=True, axis=1)"
   ]
  },
  {
   "cell_type": "markdown",
   "metadata": {},
   "source": [
    "### Export"
   ]
  },
  {
   "cell_type": "code",
   "execution_count": null,
   "metadata": {},
   "outputs": [],
   "source": [
    "# sort the DF and reset index for easier reference\n",
    "df.sort_values([\"num_reviews\"], ascending=False, inplace=True)\n",
    "df.reset_index(drop=True, inplace=True)"
   ]
  },
  {
   "cell_type": "code",
   "execution_count": null,
   "metadata": {},
   "outputs": [],
   "source": [
    "# move the text column to the end\n",
    "col = df.pop(\"combined\")\n",
    "df.insert(df.shape[1], col.name, col)"
   ]
  },
  {
   "cell_type": "code",
   "execution_count": null,
   "metadata": {},
   "outputs": [],
   "source": [
    "df.drop(columns=df.iloc[:,9:], inplace=True)"
   ]
  },
  {
   "cell_type": "code",
   "execution_count": null,
   "metadata": {},
   "outputs": [],
   "source": [
    "df.to_csv(\"../data/podcast.csv\", index=False)"
   ]
  }
 ],
 "metadata": {
  "kernelspec": {
   "display_name": "Python 3",
   "language": "python",
   "name": "python3"
  },
  "language_info": {
   "codemirror_mode": {
    "name": "ipython",
    "version": 3
   },
   "file_extension": ".py",
   "mimetype": "text/x-python",
   "name": "python",
   "nbconvert_exporter": "python",
   "pygments_lexer": "ipython3",
   "version": "3.8.2"
  }
 },
 "nbformat": 4,
 "nbformat_minor": 4
}
