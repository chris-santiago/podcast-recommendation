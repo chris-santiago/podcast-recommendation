{
 "cells": [
  {
   "cell_type": "code",
   "execution_count": 30,
   "metadata": {},
   "outputs": [
    {
     "name": "stdout",
     "output_type": "stream",
     "text": [
      "['thsi', 'sentnece', 'cnotains', 'spellling', 'erors,', 'sdgasd', 'haha,', 'wow']\n"
     ]
    }
   ],
   "source": [
    "text = 'thsi sentnece cnotains spellling erors, sdgasd haha, wow'\n",
    "text_list = text.split(\" \")\n",
    "print(text_list)"
   ]
  },
  {
   "cell_type": "code",
   "execution_count": 35,
   "metadata": {},
   "outputs": [],
   "source": [
    "# You'll need to install the following by doing:\n",
    "# pip install pip install pyspellchecker\n",
    "# pip install textblob\n",
    "# pip install autocorrect\n",
    "\n",
    "from spellchecker import SpellChecker\n",
    "from textblob import TextBlob, Word\n",
    "from autocorrect import Speller"
   ]
  },
  {
   "cell_type": "code",
   "execution_count": 32,
   "metadata": {},
   "outputs": [
    {
     "name": "stdout",
     "output_type": "stream",
     "text": [
      "thsi  ->  thsi\n",
      "sentnece  ->  sentence\n",
      "cnotains  ->  contains\n",
      "spellling  ->  spelling\n",
      "erors,  ->  errors\n",
      "sdgasd  ->  sagas\n",
      "haha,  ->  haha\n",
      "wow  ->  wow\n",
      "thsi sentence contains spelling errors sagas haha wow\n"
     ]
    }
   ],
   "source": [
    "# First method, import from Spellchecker Library\n",
    "# .correction(word) corrects the word\n",
    "# .candidates(word) shows a list of likely candidates for correction\n",
    "\n",
    "method1 = SpellChecker()\n",
    "\n",
    "new_sentence = []\n",
    "\n",
    "for word in text_list:\n",
    "    correct_word = method1.correction(word)\n",
    "    print(word, ' -> ', correct_word)\n",
    "    new_sentence.append(correct_word)\n",
    "\n",
    "fixed_1 = ' '.join(new_sentence)\n",
    "\n",
    "print(fixed_1)"
   ]
  },
  {
   "cell_type": "code",
   "execution_count": 42,
   "metadata": {},
   "outputs": [
    {
     "name": "stdout",
     "output_type": "stream",
     "text": [
      "this sentence contains spelling errors sages hata wow\n"
     ]
    }
   ],
   "source": [
    "# Second method, using TextBlob\n",
    "# .correct() changes the word to the candidate with the highest confidence level\n",
    "# .spellcheck() shows a list of candidates along with confidence levels\n",
    "\n",
    "text_list_2 = fixed_1.split(' ')\n",
    "\n",
    "new_sentence_2 = []\n",
    "\n",
    "for w in text_list_2:\n",
    "    check = Word(w).spellcheck()\n",
    "    confidence = check[0][1]\n",
    "    \n",
    "    if confidence >= 0.8:\n",
    "        method2 = TextBlob(w)\n",
    "        text_2 = method2.correct()\n",
    "        text_2 = str(text_2)\n",
    "        new_sentence_2.append(text_2)\n",
    "    else:\n",
    "        new_sentence_2.append(w)\n",
    "\n",
    "fixed_2 = ' '.join(new_sentence_2)\n",
    "\n",
    "print(fixed_2)   \n"
   ]
  },
  {
   "cell_type": "code",
   "execution_count": 34,
   "metadata": {},
   "outputs": [
    {
     "name": "stdout",
     "output_type": "stream",
     "text": [
      "this sentence contains spelling errors sages data now\n"
     ]
    }
   ],
   "source": [
    "# Third Method, using autocorrect Library\n",
    "method3 = Speller(lang='en')\n",
    "\n",
    "fixed_3 = method3(fixed_2)\n",
    "\n",
    "print(fixed_3)"
   ]
  },
  {
   "cell_type": "code",
   "execution_count": 54,
   "metadata": {},
   "outputs": [
    {
     "data": {
      "text/plain": [
       "'this sentence contains spelling errors sages data wow'"
      ]
     },
     "execution_count": 54,
     "metadata": {},
     "output_type": "execute_result"
    }
   ],
   "source": [
    "def combo_spellcheck(sentence):\n",
    "    #split up the sentence into a list of words (string)\n",
    "    word_list = sentence.split(\" \")\n",
    "    \n",
    "    #create empty list to store fixed words\n",
    "    fixed_list = []\n",
    "    \n",
    "    # uses first package, spellchecker\n",
    "    method1 = SpellChecker()\n",
    "    \n",
    "    for w in word_list:\n",
    "        correction_1 = method1.correction(w)\n",
    "        \n",
    "        # Word is the second package, TextBlob.word\n",
    "        word_check = Word(correction_1).spellcheck()\n",
    "        \n",
    "        # Correction_2 is a tuple in a list, e.g [(word, confidence_level)]\n",
    "        confidence = word_check[0][1]\n",
    "        \n",
    "        if confidence >= 0.8:\n",
    "            # TextBlob is from the second package, TextBlob is the main autocorrect function\n",
    "            method2 = TextBlob(correction_1)\n",
    "            \n",
    "            # .correct() is the autocorrect with the word with the highest confidence level\n",
    "            correction_2 = method2.correct()\n",
    "            \n",
    "            # need to turn it back into a string, because TextBlob turns this into a TextBlob object\n",
    "            correction_2 = str(correction_2)\n",
    "            fixed_list.append(correction_2)\n",
    "            \n",
    "        else:\n",
    "            # unless TextBlob is more confident than SpellChecker, keep SpellChecker's correction\n",
    "            fixed_list.append(correction_1)\n",
    "    \n",
    "    \n",
    "    # re-join the list into a sentence for the 3rd round of autocorrect\n",
    "    joined_list = ' '.join(fixed_list)\n",
    "    \n",
    "    # Speller is the third package we are running with the 'autocorrect' package\n",
    "    method3 = Speller(lang='en')\n",
    "        \n",
    "    final_correction = method3(joined_list)\n",
    "    \n",
    "    return final_correction\n",
    "\n",
    "combo_spellcheck(text)"
   ]
  },
  {
   "cell_type": "code",
   "execution_count": null,
   "metadata": {},
   "outputs": [],
   "source": []
  }
 ],
 "metadata": {
  "kernelspec": {
   "display_name": "Python 3",
   "language": "python",
   "name": "python3"
  },
  "language_info": {
   "codemirror_mode": {
    "name": "ipython",
    "version": 3
   },
   "file_extension": ".py",
   "mimetype": "text/x-python",
   "name": "python",
   "nbconvert_exporter": "python",
   "pygments_lexer": "ipython3",
   "version": "3.8.3"
  }
 },
 "nbformat": 4,
 "nbformat_minor": 4
}
