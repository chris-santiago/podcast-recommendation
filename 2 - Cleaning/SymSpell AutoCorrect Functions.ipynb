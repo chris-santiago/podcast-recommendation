{
 "cells": [
  {
   "cell_type": "code",
   "execution_count": 1,
   "metadata": {},
   "outputs": [],
   "source": [
    "import pkg_resources\n",
    "from symspellpy import SymSpell, Verbosity"
   ]
  },
  {
   "cell_type": "code",
   "execution_count": 2,
   "metadata": {},
   "outputs": [],
   "source": [
    "# You'll need to do install this package by doing: pip install -U symspellpy"
   ]
  },
  {
   "cell_type": "code",
   "execution_count": 3,
   "metadata": {},
   "outputs": [],
   "source": [
    "text = 'thsi sentnece cnotains spellling erors, sdgasd haha, wow'"
   ]
  },
  {
   "cell_type": "code",
   "execution_count": 4,
   "metadata": {},
   "outputs": [],
   "source": [
    "# Read the documentation here:\n",
    "# https://symspellpy.readthedocs.io/en/latest/api/symspellpy.html"
   ]
  },
  {
   "cell_type": "code",
   "execution_count": 5,
   "metadata": {},
   "outputs": [
    {
     "data": {
      "text/plain": [
       "True"
      ]
     },
     "execution_count": 5,
     "metadata": {},
     "output_type": "execute_result"
    }
   ],
   "source": [
    "# Set up for basic Look Up\n",
    "sym_spell = SymSpell(max_dictionary_edit_distance=2, prefix_length=7)\n",
    "dictionary_path = pkg_resources.resource_filename(\"symspellpy\", \"frequency_dictionary_en_82_765.txt\")\n",
    "# term_index is the column of the term and count_index is the\n",
    "# column of the term frequency\n",
    "sym_spell.load_dictionary(dictionary_path, term_index=0, count_index=1)"
   ]
  },
  {
   "cell_type": "code",
   "execution_count": 6,
   "metadata": {},
   "outputs": [],
   "source": [
    "# sym_spell.lookup is a single term (1 word) correction look up\n",
    "def word_level_check(sentence):\n",
    "    text_split = sentence.split(' ')\n",
    "    \n",
    "    fixed_list = []\n",
    "    for word in text_split:\n",
    "        \n",
    "        suggestions = sym_spell.lookup(word, Verbosity.CLOSEST, max_edit_distance=1, include_unknown=True)\n",
    "        \n",
    "        top_word = 0\n",
    "        for correction in suggestions:\n",
    "            if top_word < 1:\n",
    "                fixed_word = str(correction)\n",
    "                fixed_word = fixed_word.split(', ')\n",
    "                fixed_word = fixed_word[0]\n",
    "                fixed_list.append(fixed_word)\n",
    "            top_word += 1\n",
    "\n",
    "    final_sentence = ' '.join(fixed_list)\n",
    "    return final_sentence"
   ]
  },
  {
   "cell_type": "code",
   "execution_count": 7,
   "metadata": {},
   "outputs": [
    {
     "data": {
      "text/plain": [
       "True"
      ]
     },
     "execution_count": 7,
     "metadata": {},
     "output_type": "execute_result"
    }
   ],
   "source": [
    "# Set up for Compound Look Up\n",
    "bigram_path = pkg_resources.resource_filename(\n",
    "    \"symspellpy\", \"frequency_bigramdictionary_en_243_342.txt\")\n",
    "# term_index is the column of the term and count_index is the\n",
    "# column of the term frequency\n",
    "sym_spell.load_bigram_dictionary(bigram_path, term_index=0, count_index=2)"
   ]
  },
  {
   "cell_type": "code",
   "execution_count": 8,
   "metadata": {},
   "outputs": [],
   "source": [
    "def compound_level_check(sentence):\n",
    "    suggestions = sym_spell.lookup_compound(sentence, max_edit_distance=2)\n",
    "    for suggestion in suggestions:\n",
    "        fixed_sentence = str(suggestion)\n",
    "        fixed_sentence = fixed_sentence.split(', ')\n",
    "        fixed_sentence = fixed_sentence[0]\n",
    "    return fixed_sentence"
   ]
  },
  {
   "cell_type": "code",
   "execution_count": 9,
   "metadata": {},
   "outputs": [
    {
     "data": {
      "text/plain": [
       "'this sentence contains spelling errors sagas hama wow'"
      ]
     },
     "execution_count": 9,
     "metadata": {},
     "output_type": "execute_result"
    }
   ],
   "source": [
    "compound_level_check(text)"
   ]
  },
  {
   "cell_type": "code",
   "execution_count": 10,
   "metadata": {},
   "outputs": [
    {
     "name": "stdout",
     "output_type": "stream",
     "text": [
      "original text:  thsi sentnece cnotains spellling erors, sdgasd haha, wow\n",
      "word level fix: this sentence contains spelling erors, sdgasd haha, wow\n",
      "compound level fix: this sentence contains spelling errors sagas hama wow\n"
     ]
    }
   ],
   "source": [
    "print('original text: ', text)\n",
    "print('word level fix:', word_level_check(text))\n",
    "print('compound level fix:', compound_level_check(text))"
   ]
  },
  {
   "cell_type": "code",
   "execution_count": null,
   "metadata": {},
   "outputs": [],
   "source": []
  }
 ],
 "metadata": {
  "kernelspec": {
   "display_name": "Python 3",
   "language": "python",
   "name": "python3"
  },
  "language_info": {
   "codemirror_mode": {
    "name": "ipython",
    "version": 3
   },
   "file_extension": ".py",
   "mimetype": "text/x-python",
   "name": "python",
   "nbconvert_exporter": "python",
   "pygments_lexer": "ipython3",
   "version": "3.8.3"
  }
 },
 "nbformat": 4,
 "nbformat_minor": 4
}
