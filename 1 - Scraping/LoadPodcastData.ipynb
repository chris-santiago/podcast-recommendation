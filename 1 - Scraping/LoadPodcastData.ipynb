{
 "cells": [
  {
   "cell_type": "code",
   "execution_count": 1,
   "id": "animal-vulnerability",
   "metadata": {},
   "outputs": [
    {
     "data": {
      "application/vnd.jupyter.widget-view+json": {
       "model_id": "a103fcfd54a94da0b4055697a8f96346",
       "version_major": 2,
       "version_minor": 0
      },
      "text/plain": [
       "VBox()"
      ]
     },
     "metadata": {},
     "output_type": "display_data"
    },
    {
     "name": "stdout",
     "output_type": "stream",
     "text": [
      "Starting Spark application\n"
     ]
    },
    {
     "data": {
      "text/html": [
       "<table>\n",
       "<tr><th>ID</th><th>YARN Application ID</th><th>Kind</th><th>State</th><th>Spark UI</th><th>Driver log</th><th>Current session?</th></tr><tr><td>3</td><td>application_1615858487524_0004</td><td>pyspark</td><td>idle</td><td><a target=\"_blank\" href=\"http://ip-172-31-15-157.ec2.internal:20888/proxy/application_1615858487524_0004/\" class=\"emr-proxy-link\" emr-resource=\"j-1T5DK7YCLSBXF\n",
       "\" application-id=\"application_1615858487524_0004\">Link</a></td><td><a target=\"_blank\" href=\"http://ip-172-31-11-252.ec2.internal:8042/node/containerlogs/container_1615858487524_0004_01_000001/livy\" >Link</a></td><td>✔</td></tr></table>"
      ],
      "text/plain": [
       "<IPython.core.display.HTML object>"
      ]
     },
     "metadata": {},
     "output_type": "display_data"
    },
    {
     "data": {
      "application/vnd.jupyter.widget-view+json": {
       "model_id": "",
       "version_major": 2,
       "version_minor": 0
      },
      "text/plain": [
       "FloatProgress(value=0.0, bar_style='info', description='Progress:', layout=Layout(height='25px', width='50%'),…"
      ]
     },
     "metadata": {},
     "output_type": "display_data"
    },
    {
     "name": "stdout",
     "output_type": "stream",
     "text": [
      "SparkSession available as 'spark'.\n"
     ]
    },
    {
     "data": {
      "application/vnd.jupyter.widget-view+json": {
       "model_id": "",
       "version_major": 2,
       "version_minor": 0
      },
      "text/plain": [
       "FloatProgress(value=0.0, bar_style='info', description='Progress:', layout=Layout(height='25px', width='50%'),…"
      ]
     },
     "metadata": {},
     "output_type": "display_data"
    }
   ],
   "source": [
    "from pyspark.sql.functions import col\n",
    "from pyspark.sql import *\n",
    "\n",
    "def load_data():\n",
    "    input_bucket = \"s3://projectbucketpodguide/folderpodguide/\"\n",
    "    trip_path = 'podcastIDlist.csv'\n",
    "    trips = spark.read.csv(input_bucket + trip_path, header=True, inferSchema=True)\n",
    "    print(\"Podcast List Count: \",trips.count())  \n",
    "   \n",
    "    return trips"
   ]
  },
  {
   "cell_type": "code",
   "execution_count": 3,
   "id": "automotive-corrections",
   "metadata": {},
   "outputs": [
    {
     "data": {
      "application/vnd.jupyter.widget-view+json": {
       "model_id": "f60a7ac936c048c58aced324b8033562",
       "version_major": 2,
       "version_minor": 0
      },
      "text/plain": [
       "VBox()"
      ]
     },
     "metadata": {},
     "output_type": "display_data"
    },
    {
     "data": {
      "application/vnd.jupyter.widget-view+json": {
       "model_id": "",
       "version_major": 2,
       "version_minor": 0
      },
      "text/plain": [
       "FloatProgress(value=0.0, bar_style='info', description='Progress:', layout=Layout(height='25px', width='50%'),…"
      ]
     },
     "metadata": {},
     "output_type": "display_data"
    },
    {
     "name": "stdout",
     "output_type": "stream",
     "text": [
      "Podcast List Count:  21320"
     ]
    }
   ],
   "source": [
    "x = load_data()"
   ]
  },
  {
   "cell_type": "code",
   "execution_count": 5,
   "id": "passive-spray",
   "metadata": {},
   "outputs": [
    {
     "data": {
      "application/vnd.jupyter.widget-view+json": {
       "model_id": "",
       "version_major": 2,
       "version_minor": 0
      },
      "text/plain": [
       "VBox()"
      ]
     },
     "metadata": {},
     "output_type": "display_data"
    },
    {
     "data": {
      "application/vnd.jupyter.widget-view+json": {
       "model_id": "",
       "version_major": 2,
       "version_minor": 0
      },
      "text/plain": [
       "FloatProgress(value=0.0, bar_style='info', description='Progress:', layout=Layout(height='25px', width='50%'),…"
      ]
     },
     "metadata": {},
     "output_type": "display_data"
    }
   ],
   "source": [
    "mvv_list = x.selectExpr(\"name as name\", \"ID as _ID\")\n",
    "gg = [[(row._ID)] for row in mvv_list.collect()]"
   ]
  },
  {
   "cell_type": "code",
   "execution_count": 4,
   "id": "blind-cookbook",
   "metadata": {},
   "outputs": [
    {
     "data": {
      "application/vnd.jupyter.widget-view+json": {
       "model_id": "e419ffdba14a4713a17c3d1a6e55f723",
       "version_major": 2,
       "version_minor": 0
      },
      "text/plain": [
       "VBox()"
      ]
     },
     "metadata": {},
     "output_type": "display_data"
    },
    {
     "data": {
      "application/vnd.jupyter.widget-view+json": {
       "model_id": "",
       "version_major": 2,
       "version_minor": 0
      },
      "text/plain": [
       "FloatProgress(value=0.0, bar_style='info', description='Progress:', layout=Layout(height='25px', width='50%'),…"
      ]
     },
     "metadata": {},
     "output_type": "display_data"
    }
   ],
   "source": [
    "def getfeedURL(prmPodcasts):\n",
    "    import json\n",
    "    from urllib.request import urlopen\n",
    "    import csv\n",
    "    import re \n",
    "    #https://itunes.apple.com/lookup?id=270054094&country=US&media=podcast&entity=podcastEpisode&limit=1\n",
    "    feedURLs = []\n",
    "    for eachpodcast in prmPodcasts:\n",
    "        country = 'us'#eachpodcast[0]\n",
    "        pod_id = eachpodcast[0]\n",
    "        dfeeds = []\n",
    "        url = \"https://itunes.apple.com/lookup?id=\" + \\\n",
    "                str(pod_id) + \\\n",
    "                \"&country=\" + country + \\\n",
    "                \"&media=podcast&entity=podcastEpisode&limit=0\"\n",
    "       # url = \"https://itunes.apple.com/lookup?id=270054094&country=US&media=podcast&entity=podcastEpisode&limit=1\"\n",
    "        try:\n",
    "            with urlopen(url) as data_file:    \n",
    "                    reviewdata = json.load(data_file)\n",
    "                    reviewdataresults = reviewdata[\"results\"] \n",
    "                    feedUrl = reviewdataresults[0][\"feedUrl\"]\n",
    "\n",
    "            dfeeds = [pod_id, country, feedUrl]        \n",
    "        except Exception as err:\n",
    "            print (err)\n",
    "            pass\n",
    "        \n",
    "        feedURLs.append(dfeeds) \n",
    "\n",
    "    return feedURLs"
   ]
  },
  {
   "cell_type": "code",
   "execution_count": null,
   "id": "activated-arbitration",
   "metadata": {},
   "outputs": [],
   "source": [
    "qq = getfeedURL(gg)"
   ]
  },
  {
   "cell_type": "code",
   "execution_count": 67,
   "id": "french-jonathan",
   "metadata": {},
   "outputs": [
    {
     "data": {
      "application/vnd.jupyter.widget-view+json": {
       "model_id": "4d5b726d1f5847c4ad6c8d03faf1157d",
       "version_major": 2,
       "version_minor": 0
      },
      "text/plain": [
       "VBox()"
      ]
     },
     "metadata": {},
     "output_type": "display_data"
    },
    {
     "data": {
      "application/vnd.jupyter.widget-view+json": {
       "model_id": "",
       "version_major": 2,
       "version_minor": 0
      },
      "text/plain": [
       "FloatProgress(value=0.0, bar_style='info', description='Progress:', layout=Layout(height='25px', width='50%'),…"
      ]
     },
     "metadata": {},
     "output_type": "display_data"
    }
   ],
   "source": [
    "kk = []  # This is to remove empty list.  Dont skip this step.  It wont convert to dataframe\n",
    "for eachlist in qq:\n",
    "    if len(eachlist) != 3:\n",
    "        pass\n",
    "    else:\n",
    "        kk.append(eachlist)"
   ]
  },
  {
   "cell_type": "code",
   "execution_count": 69,
   "id": "descending-principle",
   "metadata": {},
   "outputs": [
    {
     "data": {
      "application/vnd.jupyter.widget-view+json": {
       "model_id": "42925d976aec49bb840ae68d17bf56bb",
       "version_major": 2,
       "version_minor": 0
      },
      "text/plain": [
       "VBox()"
      ]
     },
     "metadata": {},
     "output_type": "display_data"
    },
    {
     "data": {
      "application/vnd.jupyter.widget-view+json": {
       "model_id": "",
       "version_major": 2,
       "version_minor": 0
      },
      "text/plain": [
       "FloatProgress(value=0.0, bar_style='info', description='Progress:', layout=Layout(height='25px', width='50%'),…"
      ]
     },
     "metadata": {},
     "output_type": "display_data"
    },
    {
     "name": "stdout",
     "output_type": "stream",
     "text": [
      "root\n",
      " |-- podcastID: string (nullable = true)\n",
      " |-- country: string (nullable = true)\n",
      " |-- URL: string (nullable = true)"
     ]
    }
   ],
   "source": [
    "from pyspark.sql.types import *\n",
    "\n",
    "deptColumns = [\"podcastID\",\"country\",\"URL\"]\n",
    "deptDF = spark.createDataFrame(data=kk, schema = deptColumns)\n",
    "deptDF.printSchema()"
   ]
  },
  {
   "cell_type": "code",
   "execution_count": 74,
   "id": "selected-turtle",
   "metadata": {},
   "outputs": [
    {
     "data": {
      "application/vnd.jupyter.widget-view+json": {
       "model_id": "5c83cbf126814ad688509da6e3752bb6",
       "version_major": 2,
       "version_minor": 0
      },
      "text/plain": [
       "VBox()"
      ]
     },
     "metadata": {},
     "output_type": "display_data"
    },
    {
     "data": {
      "application/vnd.jupyter.widget-view+json": {
       "model_id": "",
       "version_major": 2,
       "version_minor": 0
      },
      "text/plain": [
       "FloatProgress(value=0.0, bar_style='info', description='Progress:', layout=Layout(height='25px', width='50%'),…"
      ]
     },
     "metadata": {},
     "output_type": "display_data"
    }
   ],
   "source": [
    "deptDF.write.option(\"header\",\"true\").csv(\"s3://projectbucketpodguide/folderpodguide/output-feedURL1\")"
   ]
  }
 ],
 "metadata": {
  "kernelspec": {
   "display_name": "PySpark",
   "language": "",
   "name": "pysparkkernel"
  },
  "language_info": {
   "codemirror_mode": {
    "name": "python",
    "version": 3
   },
   "mimetype": "text/x-python",
   "name": "pyspark",
   "pygments_lexer": "python3"
  }
 },
 "nbformat": 4,
 "nbformat_minor": 5
}
