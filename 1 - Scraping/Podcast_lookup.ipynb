{
 "cells": [
  {
   "cell_type": "code",
   "execution_count": 27,
   "metadata": {
    "scrolled": false
   },
   "outputs": [
    {
     "name": "stdout",
     "output_type": "stream",
     "text": [
      "Mommy Doomsday 1540849480\n",
      "Crime Junkie 1322200189\n",
      "Dateline NBC 1464919521\n",
      "The Daily 1200361736\n",
      "The Bible in a Year (with Fr. Mike Schmitz) 1539568321\n",
      "Against The Odds 1553335461\n",
      "Stuff You Should Know 278981407\n",
      "Up First 1222114325\n",
      "The Ben Shapiro Show 1047335260\n",
      "This American Life 201671138\n",
      "Unsolved Mysteries 1549903604\n",
      "Hidden Brain 1028908750\n",
      "The Office Deep Dive with Brian Baumgartner 1550331348\n",
      "The Dave Ramsey Show 77001367\n",
      "The Dan Bongino Show 965293227\n",
      "Wait Wait... Don't Tell Me! 121493804\n",
      "Planet Money 290783428\n",
      "The Ezra Klein Show 1548604447\n",
      "Office Ladies 1480311435\n",
      "Fresh Air 214089682\n",
      "Sal and Chris Present: Hey Babe! 1542475843\n",
      "The Opportunist 1551162705\n"
     ]
    }
   ],
   "source": [
    "import json\n",
    "from urllib.request import urlopen\n",
    " \n",
    "with urlopen('https://rss.itunes.apple.com/api/v1/us/podcasts/top-podcasts/all/22/non-explicit.json') as data_file:    \n",
    "    data = json.load(data_file)\n",
    "\n",
    "results = data[\"feed\"]    \n",
    "#print(data)\n",
    "for item in results[\"results\"]:\n",
    "    print (item[\"name\"], item[\"id\"])\n"
   ]
  },
  {
   "cell_type": "code",
   "execution_count": null,
   "metadata": {},
   "outputs": [],
   "source": []
  },
  {
   "cell_type": "code",
   "execution_count": 57,
   "metadata": {},
   "outputs": [
    {
     "name": "stdout",
     "output_type": "stream",
     "text": [
      "NPR items are :::::::::::::::::::::::\n",
      "Up First 1222114325\n",
      "The NPR Politics Podcast 1057255460\n",
      "NPR News Now 121493675\n",
      "Fresh Air 214089682\n",
      "Planet Money 290783428\n",
      "TED Radio Hour 523121474\n",
      "Wait Wait... Don't Tell Me! 121493804\n",
      "How I Built This with Guy Raz 1150510297\n",
      "Invisibilia 953290300\n",
      "Pop Culture Happy Hour 278974813\n",
      "Recent 50 listener ratings for program  Up First 3.16\n",
      "Recent 50 listener ratings for program  The NPR Politics Podcast 3.06\n",
      "Recent 50 listener ratings for program  NPR News Now 4.18\n",
      "Recent 50 listener ratings for program  Fresh Air 3.24\n",
      "Recent 50 listener ratings for program  Planet Money 4.26\n",
      "Recent 50 listener ratings for program  TED Radio Hour 2.46\n",
      "Recent 50 listener ratings for program  Wait Wait... Don't Tell Me! 4.52\n",
      "Recent 50 listener ratings for program  How I Built This with Guy Raz 4.36\n",
      "Recent 50 listener ratings for program  Invisibilia 4.32\n",
      "Recent 50 listener ratings for program  Pop Culture Happy Hour 3.58\n"
     ]
    }
   ],
   "source": [
    "\n",
    "import podsearch\n",
    "podcasts = podsearch.search(\"NPR\", country=\"us\", limit=10)\n",
    "\n",
    "print (\"NPR items are :::::::::::::::::::::::\")\n",
    "\n",
    "NPRList = []\n",
    "NPRProgram  = []\n",
    "\n",
    "for item in podcasts:\n",
    "    print (item.name, item.id)\n",
    "    qq = str(item.id)\n",
    "    findreviews = \"https://itunes.apple.com/us/rss/customerreviews/page=1/id=\" + qq + \"/sortby=mostrecent/json\"\n",
    "    NPRList.append(findreviews)\n",
    "    NPRProgram.append(item.name)\n",
    "\n",
    "cntr = 0\n",
    "for i in NPRList:    \n",
    "   \n",
    "    with urlopen(i) as data_file:    \n",
    "        reviewdata = json.load(data_file)\n",
    "        reviewdatafeed = reviewdata[\"feed\"] \n",
    "        for key in reviewdatafeed.keys():\n",
    "            qq = reviewdatafeed[\"entry\"]\n",
    "            #print(len(qq))\n",
    "            ratings = []\n",
    "            for eachitem in qq:\n",
    "                ratings.append(int(eachitem[\"im:rating\"][\"label\"]))\n",
    "        print (\"Recent 50 listener ratings for program \", NPRProgram[cntr], sum(ratings)/len(ratings))\n",
    "        cntr +=1\n",
    "  "
   ]
  },
  {
   "cell_type": "code",
   "execution_count": null,
   "metadata": {},
   "outputs": [],
   "source": []
  }
 ],
 "metadata": {
  "kernelspec": {
   "display_name": "Python 3",
   "language": "python",
   "name": "python3"
  },
  "language_info": {
   "codemirror_mode": {
    "name": "ipython",
    "version": 3
   },
   "file_extension": ".py",
   "mimetype": "text/x-python",
   "name": "python",
   "nbconvert_exporter": "python",
   "pygments_lexer": "ipython3",
   "version": "3.8.5"
  }
 },
 "nbformat": 4,
 "nbformat_minor": 4
}
