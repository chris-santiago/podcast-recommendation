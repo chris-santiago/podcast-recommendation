{
 "cells": [
  {
   "cell_type": "code",
   "execution_count": null,
   "metadata": {},
   "outputs": [],
   "source": [
    "import sqlite3\n",
    "con = sqlite3.connect('../data/GuidePod.sqlite')"
   ]
  },
  {
   "cell_type": "code",
   "execution_count": null,
   "metadata": {},
   "outputs": [],
   "source": [
    "def getfeedURL(prmPodcasts):\n",
    "    import json\n",
    "    from urllib.request import urlopen\n",
    "    import csv\n",
    "    import re \n",
    "    #https://itunes.apple.com/lookup?id=1135137367&country=US&media=podcast&entity=podcastEpisode&limit=1\n",
    "    feedURLs = []\n",
    "    for eachpodcast in prmPodcasts:\n",
    "        country = eachpodcast[0]\n",
    "        pod_id = eachpodcast[1]\n",
    "        dfeeds = []\n",
    "        url = \"https://itunes.apple.com/lookup?id=\" + \\\n",
    "                str(pod_id) + \\\n",
    "                \"&country=\" + country + \\\n",
    "                \"&media=podcast&entity=podcastEpisode&limit=0\"\n",
    "        \n",
    "        try:\n",
    "            with urlopen(url) as data_file:    \n",
    "                    reviewdata = json.load(data_file)\n",
    "                    reviewdataresults = reviewdata[\"results\"] \n",
    "                    feedUrl = reviewdataresults[0][\"feedUrl\"]\n",
    "\n",
    "            dfeeds = [pod_id, country, feedUrl]        \n",
    "        except Exception as err:\n",
    "            print (err)\n",
    "            pass\n",
    "        \n",
    "        feedURLs.append(dfeeds) \n",
    "\n",
    "    return feedURLs"
   ]
  },
  {
   "cell_type": "code",
   "execution_count": null,
   "metadata": {},
   "outputs": [],
   "source": [
    "def selectRows():\n",
    "    import sqlite3\n",
    "    con = sqlite3.connect('../data/GuidePod.sqlite')\n",
    "    cur = con.cursor()\n",
    "    all_pods = []\n",
    "    try:\n",
    "        sql = '''select distinct id, country, feedurl, name, Primary_Genre, podcast_id from podcast_master pd ''' + \\\n",
    "              '''left join episode_detail ed on pd.id = ed.podcast_id where podcast_id is null'''\n",
    "        \n",
    "        rows = cur.execute(sql)\n",
    "    except Exception as err:\n",
    "        print (err)\n",
    "        pass\n",
    "    #con.commit()\n",
    "    for row in rows:\n",
    "        all_pods.append([row[0], row[1], row[2]])\n",
    "\n",
    "    cur.close()\n",
    "    con.close()\n",
    "    \n",
    "    return all_pods\n"
   ]
  },
  {
   "cell_type": "code",
   "execution_count": null,
   "metadata": {},
   "outputs": [],
   "source": [
    "qq = selectRows()\n",
    "print (qq)"
   ]
  },
  {
   "cell_type": "code",
   "execution_count": null,
   "metadata": {},
   "outputs": [],
   "source": [
    "cur = con.cursor()\n",
    "\n",
    "for eachrow in vv:\n",
    "    try:\n",
    "        pod_id = eachrow[0]\n",
    "        country = eachrow[1]\n",
    "        feedURL = eachrow[2]\n",
    "        cur.execute('''UPDATE podcast_master set FeedURL = ? where id = ? AND country = ? ''', (feedURL, pod_id, country))\n",
    "    except Exception as err:\n",
    "        pass\n",
    "con.commit()\n",
    "\n",
    "cur.close()\n",
    "con.close()"
   ]
  },
  {
   "cell_type": "code",
   "execution_count": null,
   "metadata": {},
   "outputs": [],
   "source": [
    "def writeEpisodestoDB(descList):\n",
    "    import sqlite3\n",
    "    import re\n",
    "    con = sqlite3.connect('../data/GuidePod.sqlite')\n",
    "\n",
    "    for eachrow in descList:\n",
    "        podcastid = eachrow[0]\n",
    "        podcastdesc = eachrow[1]\n",
    "        episodes = eachrow[2]\n",
    "        try:\n",
    "            cur = con.cursor()\n",
    "          #  descr = re.sub(r'[^A-Za-z0-9 \\.\\,\\;]+', '',podcastdesc) \n",
    "\n",
    "          #  cur.execute('''INSERT INTO podcast_desc values (?,?)''',(podcastid,descr))\n",
    "\n",
    "            for eachepisode in episodes:\n",
    "              #  print (descr, podcastid)\n",
    "                title =eachepisode[0] #re.sub(r'[^A-Za-z0-9 \\.\\,\\;]+', '',eachepisode[0])\n",
    "                desc =eachepisode[1]  #re.sub(r'[^A-Za-z0-9 \\.\\,\\;]+', '',eachepisode[1])\n",
    "                dura = eachepisode[2]\n",
    "                cur.execute('''INSERT INTO episode_detail values (?,?,?,?)''',(podcastid, title, desc, dura ))\n",
    "\n",
    "        except Exception as err:\n",
    "            print (err)\n",
    "            pass\n",
    "    con.commit()\n",
    "    con.close()"
   ]
  },
  {
   "cell_type": "code",
   "execution_count": null,
   "metadata": {},
   "outputs": [],
   "source": [
    "writeEpisodestoDB(xx)"
   ]
  },
  {
   "cell_type": "code",
   "execution_count": null,
   "metadata": {},
   "outputs": [],
   "source": [
    "def getEpisode_fromList(listL):\n",
    "    import xml.etree.ElementTree as ET\n",
    "    from urllib.request import urlopen\n",
    "    descList = []  \n",
    "    for row in listL:\n",
    "        pod_id = row[0]\n",
    "        url = row[2]\n",
    "        print (url)\n",
    "        try:\n",
    "            with urlopen(url) as data_file:    \n",
    "                reviewdata = data_file\n",
    "                tree = ET.parse(reviewdata)\n",
    "                root = tree.getroot()\n",
    "                for c in root.findall('channel'):\n",
    "                    desc = c.find('description').text\n",
    "                    episodes = c.findall('item')\n",
    "                    # <class 'xml.etree.ElementTree.Element'>\n",
    "                    episodedata = []\n",
    "                for i in episodes:\n",
    "                   # type(i) = <class 'xml.etree.ElementTree.Element'>\n",
    "                   # x = [elem.tag for elem in i.iter() if elem is not i]\n",
    "                    x1 = i.find('title').text\n",
    "                    x2 = i.find('description').text\n",
    "                    x3 = i.find('pubDate').text\n",
    "                    print (x1,x2,x3)\n",
    "                    episodedata.append([x1,x2,x3])\n",
    "            descList.append([pod_id, desc,episodedata])\n",
    "        except Exception as err:\n",
    "            print (pod_id, url, err)\n",
    "            pass\n",
    "    return descList"
   ]
  },
  {
   "cell_type": "code",
   "execution_count": null,
   "metadata": {
    "scrolled": true
   },
   "outputs": [],
   "source": [
    "url_list = selectRows()\n",
    "print (url_list)\n"
   ]
  },
  {
   "cell_type": "code",
   "execution_count": null,
   "metadata": {},
   "outputs": [],
   "source": [
    "print (type(url_list))"
   ]
  },
  {
   "cell_type": "code",
   "execution_count": null,
   "metadata": {},
   "outputs": [],
   "source": [
    "xx = getEpisode_fromList(url_list)\n",
    "print (len(xx))\n",
    "writeEpisodestoDB(xx)"
   ]
  },
  {
   "cell_type": "code",
   "execution_count": null,
   "metadata": {},
   "outputs": [],
   "source": [
    "def getEpisodes(country):\n",
    "    import xml.etree.ElementTree as ET\n",
    "    from urllib.request import urlopen\n",
    "    import sqlite3\n",
    "    \n",
    "    con = sqlite3.connect('../data/GuidePod2.sqlite')\n",
    "    cur = con.cursor()\n",
    "\n",
    "    sql = '''SELECT  id, FeedURL FROM podcast_master  LIMIT 50 '''\n",
    "    print (sql)\n",
    "    rows = cur.execute(sql)\n",
    "    descList = []    \n",
    "\n",
    "    for row in rows:\n",
    "        pod_id = row[0]\n",
    "        url = row[1]\n",
    "        print (url)\n",
    "        try:\n",
    "            with urlopen(url) as data_file:    \n",
    "                reviewdata = data_file\n",
    "                tree = ET.parse(reviewdata)\n",
    "                root = tree.getroot()\n",
    "                for c in root.findall('channel'):\n",
    "                    desc = c.find('description').text\n",
    "                    episodes = c.findall('item')\n",
    "                    # <class 'xml.etree.ElementTree.Element'>\n",
    "                    episodedata = []\n",
    "                for i in episodes:\n",
    "                   # type(i) = <class 'xml.etree.ElementTree.Element'>\n",
    "                   # x = [elem.tag for elem in i.iter() if elem is not i]\n",
    "                    x1 = i.find('title').text\n",
    "                    x2 = i.find('description').text\n",
    "                    x3 = i.find('pubDate').text\n",
    "                    episodedata.append([x1,x2,x3])\n",
    "            descList.append([pod_id, desc,episodedata])\n",
    "        except Exception as err:\n",
    "            print (pod_id, url, err)\n",
    "\n",
    "    cur.close()\n",
    "    con.close()\n",
    "    return descList\n",
    "\n",
    "\n",
    "        "
   ]
  },
  {
   "cell_type": "code",
   "execution_count": null,
   "metadata": {
    "scrolled": false
   },
   "outputs": [],
   "source": [
    "descList = getEpisodes('\"au\"')\n",
    "print (len(descList))\n",
    "writeEpisodestoDB(descList)"
   ]
  },
  {
   "cell_type": "code",
   "execution_count": null,
   "metadata": {},
   "outputs": [],
   "source": [
    "from sqlite3 import dbapi2 as sqlite\n",
    "\n",
    "def unlock_db(db_filename):\n",
    " \n",
    "    connection = sqlite.connect(db_filename)\n",
    "    connection.commit()\n",
    "    connection.close()\n",
    "\n",
    "unlock_db('../data/GuidePod.sqlite')"
   ]
  }
 ],
 "metadata": {
  "kernelspec": {
   "display_name": "Python 3",
   "language": "python",
   "name": "python3"
  },
  "language_info": {
   "codemirror_mode": {
    "name": "ipython",
    "version": 3
   },
   "file_extension": ".py",
   "mimetype": "text/x-python",
   "name": "python",
   "nbconvert_exporter": "python",
   "pygments_lexer": "ipython3",
   "version": "3.8.5"
  }
 },
 "nbformat": 4,
 "nbformat_minor": 4
}
