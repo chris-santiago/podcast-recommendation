{
 "cells": [
  {
   "cell_type": "code",
   "execution_count": null,
   "metadata": {},
   "outputs": [],
   "source": [
    "import time\n",
    "import requests\n",
    "import pandas as pd\n",
    "import numpy as np\n",
    "import re"
   ]
  },
  {
   "cell_type": "markdown",
   "metadata": {},
   "source": [
    "### Open the list of podcast IDs"
   ]
  },
  {
   "cell_type": "code",
   "execution_count": null,
   "metadata": {},
   "outputs": [],
   "source": [
    "df = pd.read_csv('../data/podcast_ID_list.csv')\n",
    "ids = df['ID'].tolist()\n",
    "\n",
    "print(f\"Podcast to scrape ready\")"
   ]
  },
  {
   "cell_type": "markdown",
   "metadata": {},
   "source": [
    "### Initialize lists to hold scraped info"
   ]
  },
  {
   "cell_type": "code",
   "execution_count": null,
   "metadata": {},
   "outputs": [],
   "source": [
    "# Content to scrape\n",
    "podcast_ids = list()\n",
    "review_titles = list()\n",
    "review_content = list()\n",
    "review_rating = list()\n",
    "\n",
    "# Logs\n",
    "error_log = list()\n",
    "noReview_log = list()"
   ]
  },
  {
   "cell_type": "markdown",
   "metadata": {},
   "source": [
    "### Parsing function"
   ]
  },
  {
   "cell_type": "code",
   "execution_count": null,
   "metadata": {},
   "outputs": [],
   "source": [
    "def parse(podcast):\n",
    "    '''\n",
    "    Parse the passed strings to keep only word characters\n",
    "    '''\n",
    "    raw_title = podcast['title']['label']\n",
    "    title = re.sub(r'[\\W]+', ' ', raw_title).strip() \n",
    "    \n",
    "    raw_content = podcast['content']['label'].lower()\n",
    "    content = re.sub(r'[\\W]+', ' ', raw_content).strip()\n",
    "    \n",
    "    rating = podcast['im:rating']['label']\n",
    "    \n",
    "    return title, content, rating"
   ]
  },
  {
   "cell_type": "markdown",
   "metadata": {},
   "source": [
    "### Main scraping logic"
   ]
  },
  {
   "cell_type": "code",
   "execution_count": null,
   "metadata": {},
   "outputs": [],
   "source": [
    "h={'User-Agent': 'Mozilla/5.0 (X11; Linux x86_64; rv:55.0) Gecko/20100101 Firefox/55.0'}\n",
    "\n",
    "for ind in range(len(ids)):\n",
    "    \n",
    "    # Pop the next ID in the list\n",
    "    pod_id = ids.pop(0)\n",
    "    \n",
    "    # Variables that will be updated during each iteration\n",
    "    page = 1\n",
    "    podcast_err = 0\n",
    "    \n",
    "    while (page <= 10):\n",
    "\n",
    "        # Fill in URL \n",
    "        url = f\"https://itunes.apple.com/us/rss/customerreviews/page={page}/id={pod_id}/sortby=mostrecent/json\"\n",
    "\n",
    "        # Get request, include user-agent in headers\n",
    "        r = requests.get(url, headers = h)\n",
    "\n",
    "        # Check to see if successful\n",
    "        status = r.status_code\n",
    "        \n",
    "        # If not successful, pause 30 seconds and try again (twice)\n",
    "        while (status != 200) and (podcast_err < 2):\n",
    "            time.sleep(30)\n",
    "            \n",
    "            # Log the number of unsuccesful attemps\n",
    "            podcast_err +=1\n",
    "\n",
    "            # Request again and check status\n",
    "            r = requests.get(url, headers = h)\n",
    "            status = r.status_code\n",
    "\n",
    "        # if not successful after two tries, skip and log to global error log\n",
    "        if podcast_err == 2:\n",
    "            print(f\"Could not scrape: {pod_id}\")\n",
    "            error_log.append(ind)\n",
    "            # end process for this podcast, move to the next\n",
    "            break\n",
    "\n",
    "        # if passed all the previous tests, proceed...\n",
    "        #  Get the JSON\n",
    "        info = r.json()['feed']\n",
    "        \n",
    "        # Check if there are any reviews\n",
    "        if \"entry\" not in info.keys():\n",
    "            noReview_log.append(pod_id)\n",
    "            break\n",
    "        \n",
    "        else: info = info['entry']\n",
    "            \n",
    "        # Check if it's a single review or multiple\n",
    "        if isinstance(info, list):        \n",
    "            \n",
    "            for review in info:\n",
    "                title, content, rating = parse(review)\n",
    "                podcast_ids.append(pod_id)\n",
    "                review_titles.append(title)\n",
    "                review_content.append(content)\n",
    "                review_rating.append(rating)\n",
    "            \n",
    "            # Check if it's a full-page of reviews (50)\n",
    "            if len(info)!=50:\n",
    "                break\n",
    "\n",
    "        else:\n",
    "            title, content, rating = parse(info)\n",
    "            podcast_ids.append(pod_id)\n",
    "            review_titles.append(title)\n",
    "            review_content.append(content)\n",
    "            review_rating.append(rating)\n",
    "            break\n",
    "        \n",
    "        # If the podcast did not trigger a break anywhere, proceed after randomized pause\n",
    "        page += 1\n",
    "        time.sleep(np.random.uniform(low=0.5, high=2.5, size=1)[0])\n",
    "    \n",
    "    # Check if more than 3 consecutive errors or 20 total\n",
    "    if len(error_log)>=3: \n",
    "\n",
    "        if len(error_log)>20 or (error_log[-1]==error_log[-2]+1==error_log[-3]+2):\n",
    "            print(f\"Too many consecutive or total errors, whole process terminated\")\n",
    "            break\n",
    "    \n",
    "    # Add some randomized delays\n",
    "    if ind % 500 == 0:\n",
    "        time.sleep(np.random.uniform(low=7.0, high=8.0, size=1)[0])\n",
    "        \n",
    "    elif ind % 100 == 0:\n",
    "        time.sleep(np.random.uniform(low=5.0, high=6.5, size=1)[0])\n",
    "    \n",
    "    elif ind % 25 == 0:\n",
    "        time.sleep(np.random.uniform(low=3.2, high=4.8, size=1)[0])\n",
    "    \n",
    "    elif ind % 10 == 0:\n",
    "        time.sleep(np.random.uniform(low=1.5, high=2.5, size=1)[0])        \n",
    "        \n",
    "    else:\n",
    "        time.sleep(np.random.uniform(low=0.2, high=1.2, size=1)[0])"
   ]
  },
  {
   "cell_type": "markdown",
   "metadata": {},
   "source": [
    "### Write reviews to csv"
   ]
  },
  {
   "cell_type": "code",
   "execution_count": null,
   "metadata": {},
   "outputs": [],
   "source": [
    "data = [podcast_ids, review_titles, review_content, review_rating]"
   ]
  },
  {
   "cell_type": "code",
   "execution_count": null,
   "metadata": {},
   "outputs": [],
   "source": [
    "import sqlite3\n",
    "\n",
    "#Connecting to sqlite\n",
    "con = sqlite3.connect('../data/GuidePod.sqlite')\n",
    "\n",
    "#Creating a cursor object using the cursor() method\n",
    "cur = conn.cursor()"
   ]
  },
  {
   "cell_type": "code",
   "execution_count": null,
   "metadata": {},
   "outputs": [],
   "source": [
    "for i in data:\n",
    "    \n",
    "    podcastid  = i[1] \n",
    "    title = i[2] \n",
    "    content = i[3]\n",
    "    rating = i[4]\n",
    "    \n",
    "    cur.execute('''INSERT INTO podcast_reviews values (?,?,?,?)''',(podcastid, title, content, rating ))\n",
    "\n",
    "cur.close()\n",
    "con.close()"
   ]
  }
 ],
 "metadata": {
  "kernelspec": {
   "display_name": "Python 3",
   "language": "python",
   "name": "python3"
  },
  "language_info": {
   "codemirror_mode": {
    "name": "ipython",
    "version": 3
   },
   "file_extension": ".py",
   "mimetype": "text/x-python",
   "name": "python",
   "nbconvert_exporter": "python",
   "pygments_lexer": "ipython3",
   "version": "3.8.3"
  }
 },
 "nbformat": 4,
 "nbformat_minor": 4
}
